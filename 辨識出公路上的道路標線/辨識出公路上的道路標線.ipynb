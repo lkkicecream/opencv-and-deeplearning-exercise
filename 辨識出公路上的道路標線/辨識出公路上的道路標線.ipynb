{
 "cells": [
  {
   "cell_type": "code",
   "execution_count": 2,
   "id": "3f0e14db",
   "metadata": {},
   "outputs": [],
   "source": [
    "import cv2\n",
    "import numpy as np\n",
    "import imutils\n",
    "import joblib\n",
    "import matplotlib.pyplot as plt"
   ]
  },
  {
   "cell_type": "code",
   "execution_count": 5,
   "id": "5e681170",
   "metadata": {},
   "outputs": [
    {
     "name": "stdout",
     "output_type": "stream",
     "text": [
      "(480, 640, 3)\n"
     ]
    }
   ],
   "source": [
    "#載入圖片\n",
    "img = cv2.imread('126.jpg')\n",
    "print(img.shape)\n",
    "cv2.imshow(\"img\", img)\n",
    "cv2.waitKey(0)\n",
    "cv2.destroyAllWindows()"
   ]
  },
  {
   "cell_type": "code",
   "execution_count": 6,
   "id": "11bc49ea",
   "metadata": {},
   "outputs": [],
   "source": [
    "# 灰階處理（？\n",
    "image_gray = cv2.cvtColor(img, cv2.COLOR_RGB2GRAY)\n",
    "cv2.imshow(\"gray\", image_gray)\n",
    "cv2.waitKey(0)\n",
    "cv2.destroyAllWindows()"
   ]
  },
  {
   "cell_type": "code",
   "execution_count": 7,
   "id": "06638aea",
   "metadata": {},
   "outputs": [],
   "source": [
    "#高斯模糊\n",
    "blur = cv2.GaussianBlur(image_gray,(5,5),0)\n",
    "cv2.imshow(\"blur\", blur)\n",
    "cv2.waitKey(0)\n",
    "cv2.destroyAllWindows()"
   ]
  },
  {
   "cell_type": "code",
   "execution_count": 8,
   "id": "d62b5d32",
   "metadata": {},
   "outputs": [],
   "source": [
    "low_threshold = 1\n",
    "high_threshold = 90\n",
    "edges = cv2.Canny(blur, low_threshold, high_threshold)\n",
    "cv2.imshow(\"edges\", edges)\n",
    "cv2.waitKey(0)\n",
    "cv2.destroyAllWindows()"
   ]
  },
  {
   "cell_type": "code",
   "execution_count": 9,
   "id": "a416b05e",
   "metadata": {},
   "outputs": [],
   "source": [
    "#ROI，直接用座標 BAD\n",
    "b  = np.array([[[0,280],  [0,450], [650,450],[640,280]]], dtype = np.int32)\n",
    "im = np.zeros(blur.shape[:2], dtype = \"uint8\")\n",
    "cv2.polylines(im, b, 1, 255)\n",
    "cv2.fillPoly(im, b, 255)\n",
    "\n",
    "mask = im\n",
    "#plt.imshow(mask)\n",
    "masked = cv2.bitwise_and(edges, edges, mask = mask)\n",
    "cv2.imshow(\"masked\", masked)\n",
    "cv2.waitKey(0)\n",
    "cv2.destroyAllWindows()"
   ]
  },
  {
   "cell_type": "code",
   "execution_count": 10,
   "id": "08617c36",
   "metadata": {},
   "outputs": [
    {
     "name": "stdout",
     "output_type": "stream",
     "text": [
      "[[[ 91 420 240 286]]\n",
      "\n",
      " [[461 291 637 405]]\n",
      "\n",
      " [[ 52 431 158 348]]\n",
      "\n",
      " [[468 289 639 391]]\n",
      "\n",
      " [[ 62 435 247 290]]\n",
      "\n",
      " [[ 63 435 175 350]]\n",
      "\n",
      " [[464 292 638 405]]\n",
      "\n",
      " [[ 51 433 236 289]]\n",
      "\n",
      " [[478 294 636 389]]\n",
      "\n",
      " [[ 61 435 249 288]]\n",
      "\n",
      " [[ 83 426 230 294]]\n",
      "\n",
      " [[462 289 585 366]]\n",
      "\n",
      " [[460 291 590 373]]\n",
      "\n",
      " [[ 51 432 164 344]]\n",
      "\n",
      " [[ 85 419 249 286]]\n",
      "\n",
      " [[466 289 637 391]]\n",
      "\n",
      " [[102 411 247 285]]]\n"
     ]
    }
   ],
   "source": [
    "lines = cv2.HoughLinesP(masked, 0.8, np.pi / 180, 10, lines = None, minLineLength = 100, maxLineGap = 100)\n",
    "print(lines)\n",
    "for line in lines:\n",
    "    x1, y1, x2, y2 = line[0]\n",
    "    cv2.line(img , (x1, y1), (x2, y2), (255, 0, 0), 2)\n",
    "cv2.imshow(\"edges\", img)\n",
    "cv2.waitKey(0)\n",
    "cv2.destroyAllWindows()"
   ]
  }
 ],
 "metadata": {
  "kernelspec": {
   "display_name": "Python (new)",
   "language": "python",
   "name": "new"
  },
  "language_info": {
   "codemirror_mode": {
    "name": "ipython",
    "version": 3
   },
   "file_extension": ".py",
   "mimetype": "text/x-python",
   "name": "python",
   "nbconvert_exporter": "python",
   "pygments_lexer": "ipython3",
   "version": "3.7.10"
  }
 },
 "nbformat": 4,
 "nbformat_minor": 5
}
