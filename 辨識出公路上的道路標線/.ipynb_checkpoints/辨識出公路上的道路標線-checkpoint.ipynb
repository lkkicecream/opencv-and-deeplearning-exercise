{
 "cells": [
  {
   "cell_type": "code",
   "execution_count": 103,
   "id": "3f0e14db",
   "metadata": {},
   "outputs": [],
   "source": [
    "import cv2\n",
    "import numpy as np\n",
    "import imutils\n",
    "import joblib\n",
    "import matplotlib.pyplot as plt"
   ]
  },
  {
   "cell_type": "code",
   "execution_count": 131,
   "id": "5e681170",
   "metadata": {},
   "outputs": [
    {
     "name": "stdout",
     "output_type": "stream",
     "text": [
      "(480, 640, 3)\n"
     ]
    }
   ],
   "source": [
    "#載入圖片\n",
    "img = cv2.imread('145.jpg')\n",
    "print(img.shape)\n",
    "cv2.imshow(\"img\", img)\n",
    "cv2.waitKey(0)\n",
    "cv2.destroyAllWindows()"
   ]
  },
  {
   "cell_type": "code",
   "execution_count": 132,
   "id": "11bc49ea",
   "metadata": {},
   "outputs": [],
   "source": [
    "# 灰階處理（？\n",
    "image_gray = cv2.cvtColor(img, cv2.COLOR_RGB2GRAY)\n",
    "cv2.imshow(\"gray\", image_gray)\n",
    "cv2.waitKey(0)\n",
    "cv2.destroyAllWindows()"
   ]
  },
  {
   "cell_type": "code",
   "execution_count": 133,
   "id": "06638aea",
   "metadata": {},
   "outputs": [],
   "source": [
    "#高斯模糊\n",
    "blur = cv2.GaussianBlur(image_gray,(5,5),0)\n",
    "cv2.imshow(\"blur\", blur)\n",
    "cv2.waitKey(0)\n",
    "cv2.destroyAllWindows()"
   ]
  },
  {
   "cell_type": "code",
   "execution_count": 134,
   "id": "d62b5d32",
   "metadata": {},
   "outputs": [],
   "source": [
    "low_threshold = 1\n",
    "high_threshold = 90\n",
    "edges = cv2.Canny(blur, low_threshold, high_threshold)\n",
    "cv2.imshow(\"edges\", edges)\n",
    "cv2.waitKey(0)\n",
    "cv2.destroyAllWindows()"
   ]
  },
  {
   "cell_type": "code",
   "execution_count": 139,
   "id": "a416b05e",
   "metadata": {},
   "outputs": [],
   "source": [
    "#ROI，直接用座標 BAD\n",
    "b  = np.array([[[0,280],  [0,450], [650,450],[640,280]]], dtype = np.int32)\n",
    "im = np.zeros(blur.shape[:2], dtype = \"uint8\")\n",
    "cv2.polylines(im, b, 1, 255)\n",
    "cv2.fillPoly(im, b, 255)\n",
    "\n",
    "mask = im\n",
    "#plt.imshow(mask)\n",
    "masked = cv2.bitwise_and(edges, edges, mask = mask)\n",
    "cv2.imshow(\"masked\", masked)\n",
    "cv2.waitKey(0)\n",
    "cv2.destroyAllWindows()"
   ]
  },
  {
   "cell_type": "code",
   "execution_count": 142,
   "id": "08617c36",
   "metadata": {},
   "outputs": [
    {
     "name": "stdout",
     "output_type": "stream",
     "text": [
      "[[[452 280 638 396]]\n",
      "\n",
      " [[510 324 638 410]]\n",
      "\n",
      " [[ 41 450 231 297]]\n",
      "\n",
      " [[442 280 599 385]]\n",
      "\n",
      " [[ 10 449 221 295]]\n",
      "\n",
      " [[  9 450 222 295]]\n",
      "\n",
      " [[ 43 450 225 302]]\n",
      "\n",
      " [[458 283 639 396]]\n",
      "\n",
      " [[437 280 631 406]]\n",
      "\n",
      " [[452 281 574 357]]\n",
      "\n",
      " [[106 397 229 297]]\n",
      "\n",
      " [[447 282 629 405]]]\n"
     ]
    }
   ],
   "source": [
    "lines = cv2.HoughLinesP(masked, 0.8, np.pi / 180, 10, lines = None, minLineLength = 100, maxLineGap = 100)\n",
    "print(lines)\n",
    "for line in lines:\n",
    "    x1, y1, x2, y2 = line[0]\n",
    "    cv2.line(img , (x1, y1), (x2, y2), (255, 0, 0), 2)\n",
    "cv2.imshow(\"edges\", img)\n",
    "cv2.waitKey(0)\n",
    "cv2.destroyAllWindows()"
   ]
  }
 ],
 "metadata": {
  "kernelspec": {
   "display_name": "Python (new)",
   "language": "python",
   "name": "new"
  },
  "language_info": {
   "codemirror_mode": {
    "name": "ipython",
    "version": 3
   },
   "file_extension": ".py",
   "mimetype": "text/x-python",
   "name": "python",
   "nbconvert_exporter": "python",
   "pygments_lexer": "ipython3",
   "version": "3.7.10"
  }
 },
 "nbformat": 4,
 "nbformat_minor": 5
}
